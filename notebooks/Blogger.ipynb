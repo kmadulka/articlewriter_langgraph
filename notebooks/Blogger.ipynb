{
 "cells": [
  {
   "cell_type": "code",
   "execution_count": 1,
   "id": "213870db-326e-4ad4-9473-dd0cb762d689",
   "metadata": {},
   "outputs": [],
   "source": [
    "import openai\n",
    "from openai import OpenAI\n",
    "import os\n",
    "openai.api_key = os.getenv(\"OPENAI_API_KEY\")"
   ]
  },
  {
   "cell_type": "code",
   "execution_count": 3,
   "id": "070b72c4",
   "metadata": {},
   "outputs": [
    {
     "name": "stdout",
     "output_type": "stream",
     "text": [
      "Name: langchain-community\n",
      "Version: 0.3.20\n",
      "Summary: Community contributed LangChain integrations.\n",
      "Home-page: \n",
      "Author: \n",
      "Author-email: \n",
      "License: MIT\n",
      "Location: /Users/kassandramadulka/Documents/github/articlewriter_langgraph/articlewriter/lib/python3.10/site-packages\n",
      "Requires: aiohttp, dataclasses-json, httpx-sse, langchain, langchain-core, langsmith, numpy, pydantic-settings, PyYAML, requests, SQLAlchemy, tenacity\n",
      "Required-by: \n"
     ]
    }
   ],
   "source": [
    "# import sys\n",
    "# print(sys.executable)\n",
    "!pip show langchain-community"
   ]
  },
  {
   "cell_type": "code",
   "execution_count": 4,
   "id": "3bacae50-a136-49eb-81b7-9c14c2946651",
   "metadata": {},
   "outputs": [
    {
     "name": "stderr",
     "output_type": "stream",
     "text": [
      "/var/folders/n1/0x5hm6k96zg547470kdfm8vw0000gn/T/ipykernel_94761/245099123.py:46: LangChainDeprecationWarning: The class `ChatOpenAI` was deprecated in LangChain 0.0.10 and will be removed in 1.0. An updated version of the class exists in the :class:`~langchain-openai package and should be used instead. To use it run `pip install -U :class:`~langchain-openai` and import as `from :class:`~langchain_openai import ChatOpenAI``.\n",
      "  llm = ChatOpenAI(model=\"gpt-4o\", temperature=0.7)\n"
     ]
    }
   ],
   "source": [
    "# from langchain_openai import ChatOpenAI\n",
    "from langchain_community.chat_models import ChatOpenAI\n",
    "from langchain_core.prompts import ChatPromptTemplate\n",
    "from langchain_core.messages import HumanMessage, AIMessage\n",
    "from langchain_openai import OpenAIEmbeddings\n",
    "from langgraph.graph import START, MessagesState, StateGraph, END\n",
    "from langgraph.checkpoint.memory import MemorySaver\n",
    "from IPython.display import Image, display\n",
    "import operator\n",
    "from langchain_core.messages import AnyMessage\n",
    "from langgraph.graph.message import add_messages\n",
    "from langgraph.types import interrupt, Command\n",
    "from langgraph.constants import Send\n",
    "\n",
    "# from langchain_pinecone import PineconeVectorStore\n",
    "from langchain_text_splitters import RecursiveCharacterTextSplitter\n",
    "from langchain.schema import HumanMessage, AIMessage, BaseMessage\n",
    "\n",
    "from langchain.chains import create_history_aware_retriever\n",
    "from langchain_core.prompts import MessagesPlaceholder\n",
    "from langchain.callbacks.streaming_stdout import StreamingStdOutCallbackHandler\n",
    "from typing import Dict, List, Optional, Union\n",
    "from pydantic import BaseModel, Field\n",
    "from langgraph.graph import MessagesState\n",
    "from langchain_core.messages import AIMessage, HumanMessage, SystemMessage, trim_messages, BaseMessage\n",
    "\n",
    "\n",
    "from typing import Sequence, Literal\n",
    "from langgraph.graph.message import add_messages\n",
    "from typing_extensions import Annotated, TypedDict\n",
    "from langchain.callbacks.streaming_stdout import StreamingStdOutCallbackHandler\n",
    "import pandas as pd\n",
    "import random\n",
    "from langchain.prompts import ChatPromptTemplate, MessagesPlaceholder\n",
    "\n",
    "# from langchain.chains import StateGraph\n",
    "# from langchain.memory import MemorySaver\n",
    "import random\n",
    "import json\n",
    "import getpass\n",
    "\n",
    "os.environ[\"MERMAID_TIMEOUT\"] = \"60\"\n",
    "\n",
    "embeddings = OpenAIEmbeddings()\n",
    "\n",
    "llm = ChatOpenAI(model=\"gpt-4o\", temperature=0.7)"
   ]
  },
  {
   "cell_type": "code",
   "execution_count": 3,
   "id": "540a0ce0-2eaa-4475-aefd-1c7c138ebb11",
   "metadata": {},
   "outputs": [],
   "source": [
    "# create analysts subgraph\n",
    "\n",
    "class Analyst(BaseModel):\n",
    "    name: str = Field(..., description=\"name of analyst\")\n",
    "    role: str = Field(..., description = \"role of the analyst in the context of the topic\")\n",
    "    description: str = Field(..., description=\"description of the analyst focus, concerns, motives\")\n",
    "\n",
    "    @property\n",
    "    def persona(self)-> str:\n",
    "        return f\"Name {self.name}\\nRole: {self.role}\\n Description: {self.description}\"\n",
    "\n",
    "class Perspectives(BaseModel):\n",
    "    analysts: List[Analyst] = Field(..., description=\"list of analysts and their roles and descriptions\")\n",
    "\n",
    "class GenerateAnalystsState(BaseModel):\n",
    "    topic: str\n",
    "    max_analysts: int = 3\n",
    "    human_analyst_feedback: Optional[str] = None\n",
    "    analysts: Optional[Perspectives] = None\n",
    "\n",
    "\n",
    "    "
   ]
  },
  {
   "cell_type": "code",
   "execution_count": 4,
   "id": "7ddb40a8-cd2f-4f28-a601-f8159882bd1a",
   "metadata": {},
   "outputs": [],
   "source": [
    "from enum import Enum\n",
    "class NodeName(str, Enum):\n",
    "    END= END\n",
    "    CREATE_ANALYSTS = \"create_analysts\"\n",
    "    HUMAN_FEEDBACK = \"human_feedback\"\n",
    "    START = START\n",
    "    SAVE_INTERVIEW = \"save_interview\"\n",
    "    GENERATE_QUESTION = \"generate_question\"\n",
    "    CONDUCT_INTERVIEW = \"conduct_interview\"\n",
    "    WRITE_REPORT = \"write_report\"\n",
    "    WRITE_INTRODUCTION = \"write_introduction\"\n",
    "    WRITE_CONCLUSION = \"write_conclusion\"\n",
    "    FINALIZE_REPORT = \"finalize_report\"\n",
    "    SEARCH_WEB = \"search_web\"\n",
    "    SEARCH_WIKIPEDIA = \"search_wikipedia\"\n",
    "    ANSWER_QUESTION = \"answer_question\"\n",
    "    WRITE_SECTION = \"write_section\"\n",
    "\n",
    "    \n",
    "analyst_instructions = \"\"\"\n",
    "You are tasked with creating a set of analyst personas. Follow these instructions carefully:\n",
    "1. First review the research topic:\n",
    "{topic}\n",
    "2. Estimate any editorial feedback that been optionally provided to guide creation of the analysts:\n",
    "{human_analyst_feedback}\n",
    "3. Determine the most interesting themes based upon documents and/or feedback above\n",
    "4. Pick the top {max_analysts} themes.\n",
    "5. Assign one analyst to each theme\n",
    "\"\"\"\n",
    "\n",
    "def create_analysts(state: GenerateAnalystsState):\n",
    "    \"\"\"Generate the analysts personas\"\"\"\n",
    "\n",
    "    topic = state.topic\n",
    "    max_analysts = state.max_analysts\n",
    "    human_analyst_feedback = state.human_analyst_feedback\n",
    "\n",
    "    structured_llm = llm.with_structured_output(Perspectives)\n",
    "    system_msg = analyst_instructions.format(topic=topic, human_analyst_feedback= human_analyst_feedback, max_analysts=max_analysts)\n",
    "\n",
    "    analysts = structured_llm.invoke([\n",
    "        SystemMessage(content=system_msg),\n",
    "    ]+ [HumanMessage(content='Generate the set of analysts')])\n",
    "\n",
    "    print(analysts)\n",
    "\n",
    "    state.analysts = analysts\n",
    "\n",
    "    return state\n",
    "\n",
    "    \n",
    "\n",
    "def human_feedback(state: GenerateAnalystsState):\n",
    "    \"\"\"ask for human feedback for analysts\"\"\"\n",
    "\n",
    "    human_feedback = interrupt(\"Please input any feedback for the analysts: \")\n",
    "    print(f\"human feedback: {human_feedback}\")\n",
    "\n",
    "    state.human_analyst_feedback = human_feedback\n",
    "\n",
    "    if human_feedback:\n",
    "        return Command(update={\"human_analyst_feedback\": human_feedback}, goto=\"create_analysts\")\n",
    "    else:\n",
    "        return Command(update={\"human_analyst_feedback\": None}, goto=END)\n",
    "\n",
    "    "
   ]
  },
  {
   "cell_type": "code",
   "execution_count": 5,
   "id": "d99491e4-5b72-4909-981c-d7f80b3f299c",
   "metadata": {},
   "outputs": [],
   "source": [
    "builder = StateGraph(GenerateAnalystsState)\n",
    "builder.add_node(NodeName.CREATE_ANALYSTS, create_analysts)\n",
    "builder.add_node(NodeName.HUMAN_FEEDBACK, human_feedback)\n",
    "\n",
    "builder.add_edge(NodeName.START, NodeName.CREATE_ANALYSTS)\n",
    "builder.add_edge(NodeName.CREATE_ANALYSTS, NodeName.HUMAN_FEEDBACK)\n",
    "builder.add_conditional_edges(\n",
    "        NodeName.HUMAN_FEEDBACK,\n",
    "        lambda state: NodeName.CREATE_ANALYSTS if (state.human_analyst_feedback is not None) else NodeName.END,\n",
    "        [NodeName.CREATE_ANALYSTS, NodeName.END]\n",
    "    )\n",
    "\n",
    "memory = MemorySaver()\n",
    "graph = builder.compile(checkpointer=memory)\n"
   ]
  },
  {
   "cell_type": "code",
   "execution_count": 9,
   "id": "d19b7741-1594-466b-8e78-524bacfe3f5f",
   "metadata": {},
   "outputs": [
    {
     "data": {
      "image/png": "[encoded data removed]",
      "text/plain": [
       "<IPython.core.display.Image object>"
      ]
     },
     "metadata": {},
     "output_type": "display_data"
    }
   ],
   "source": [
    "display(Image(builder.compile(checkpointer=memory).with_config(\n",
    "    run_name=\"Create Analysts\", mermaid_timeout=60\n",
    ").get_graph().draw_mermaid_png()))\n"
   ]
  },
  {
   "cell_type": "code",
   "execution_count": 10,
   "id": "f4ae9905-2697-4a7c-9052-5cab984d9fef",
   "metadata": {},
   "outputs": [
    {
     "name": "stdout",
     "output_type": "stream",
     "text": [
      "analysts=[Analyst(name='Gastronomic Historian', role='Cultural Analyst', description=\"Focused on the historical and cultural significance of various foods found in NYC. This analyst explores how immigrant communities have influenced the city's culinary landscape, examining traditional dishes and their evolution over time. Their motive is to provide a rich, historical context to the food scene in NYC.\"), Analyst(name='Trend Tracker', role='Contemporary Food Analyst', description=\"Examines the current food trends in NYC, including popular new restaurants, viral food items, and emerging culinary movements. This analyst is concerned with what's hot and trending in the city's dynamic food scene, aiming to identify what makes certain foods or dining experiences popular at any given time.\"), Analyst(name='Health-Conscious Foodie', role='Nutritional Analyst', description='Focuses on the health aspects of foods available in NYC. This analyst evaluates the nutritional value of popular dishes, seeks out healthy eating options, and investigates how restaurants are adapting to dietary trends such as plant-based diets and gluten-free menus. Their goal is to guide health-conscious individuals to make informed dining choices in the city.')]\n"
     ]
    },
    {
     "name": "stdout",
     "output_type": "stream",
     "text": [
      "Please input any feedback for the analysts:  \n"
     ]
    },
    {
     "name": "stdout",
     "output_type": "stream",
     "text": [
      "\n",
      "Agent Response: \n",
      "\n",
      "\n",
      "human feedback: \n"
     ]
    }
   ],
   "source": [
    "from time import sleep\n",
    "topic = \"best food to eat in NYC\"\n",
    "thread = {\"configurable\":{\"thread_id\":\"1\"}}\n",
    "\n",
    "graph.invoke({\"topic\": topic},\n",
    "        thread,\n",
    "        stream_mode=\"updates\"\n",
    "    )\n",
    "\n",
    "while graph.get_state(thread).next: #need while loop if there is feedback\n",
    "        graph_state = graph.get_state(thread)\n",
    "        interrupt_value = graph_state.tasks[0].interrupts[0].value\n",
    "\n",
    "        # Occasionally, the previous print statement is not visible in the console.\n",
    "        sleep(0.5)\n",
    "\n",
    "        human_feedback_text = input(interrupt_value) #input stored here\n",
    "        print(f\"\\nAgent Response: {human_feedback_text}\\n\\n\")\n",
    "\n",
    "        # config[\"callbacks\"] = [MLflowTracerOverrideWarnings()]\n",
    "        graph.invoke(Command(resume=human_feedback_text), config=thread)"
   ]
  },
  {
   "cell_type": "code",
   "execution_count": 7,
   "id": "4034a8cf-bad6-4935-b7a8-376e2ed0868e",
   "metadata": {},
   "outputs": [
    {
     "data": {
      "text/plain": [
       "[Analyst(name='Culinary Historian Emma', role='Culinary Historian', description=\"Emma delves into the historical roots of New York City's diverse culinary scene. She is interested in how traditional dishes from immigrant communities have become iconic NYC foods. Her focus is on understanding the evolution of food culture in the city and how past influences shape current trends.\"),\n",
       " Analyst(name='Local Foodie Alex', role='Local Foodie', description=\"Alex is a passionate local food enthusiast who is always on the hunt for the best and most authentic food experiences in New York City. His focus is on uncovering hidden gems and iconic eateries that offer a true taste of the city's diverse food offerings. Alex is driven by a desire to share these finds with both locals and tourists who want to experience NYC's culinary landscape like a local.\"),\n",
       " Analyst(name='Health-Conscious Nutritionist Sarah', role='Health-Conscious Nutritionist', description=\"Sarah analyzes the best food options in NYC from a health and wellness perspective. Her focus is on identifying restaurants and dishes that offer healthier alternatives without compromising on taste. She is motivated by a desire to guide health-conscious individuals in making informed food choices while enjoying the city's rich culinary diversity.\")]"
      ]
     },
     "execution_count": 7,
     "metadata": {},
     "output_type": "execute_result"
    }
   ],
   "source": [
    "graph.get_state(thread).values['analysts'].analysts"
   ]
  },
  {
   "cell_type": "code",
   "execution_count": 11,
   "id": "7f34bb7e-be67-4061-8162-73c44ac3b353",
   "metadata": {},
   "outputs": [],
   "source": [
    "import operator\n",
    "\n",
    "class InterviewState(BaseModel):\n",
    "    max_num_turns: int = 10\n",
    "    context: Annotated[list[AnyMessage], add_messages] = []\n",
    "    analyst: Analyst\n",
    "    interview: str = \"\"\n",
    "    sections: Annotated[list[AnyMessage], add_messages] = []\n",
    "    messages: Annotated[list[AnyMessage], add_messages] = []\n",
    "\n",
    "class SearchQuery(BaseModel):\n",
    "    search_query: str = Field(..., description=\"search query for retrieval\")\n",
    "\n",
    "\n",
    "question_instructions = \"\"\"\n",
    "You are ana analyst tasked with interviewing an expert to learn about a specific topic. \n",
    "Your goal is to boil down interesting and specific insights related to your topic.\n",
    "1. Interesting meaning insights that people will find surprising or non-obvious\n",
    "2. Specific meaning insights that avoid generalities and include specific examples from the expert\n",
    "This is your topic of focus and set of goals:\n",
    "{goals}\n",
    "Begin by introducing yourself using a name that fits your persona and then ask your questions\n",
    "When you are satisfied with your understanding, complete the interview with \"Thank you for your help\"\n",
    "Remember to stay in character throughout your response, reflecting the persona and goals provided to you\n",
    "\"\"\"\n",
    "\n",
    "def generate_question(state: InterviewState):\n",
    "    analyst = state.analyst\n",
    "    messages = state.messages\n",
    "\n",
    "    sys_msg = question_instructions.format(goals=analyst.persona)\n",
    "    question = llm.invoke([SystemMessage(content=sys_msg)]+messages)\n",
    "\n",
    "    state.messages = question\n",
    "\n",
    "    return state"
   ]
  },
  {
   "cell_type": "code",
   "execution_count": null,
   "id": "c7b872ca-acaa-4003-8815-210c852c8cdf",
   "metadata": {},
   "outputs": [],
   "source": [
    "from tavily import TavilyClient\n",
    "api_key = os.getenv(\"TAVILY_API_KEY\")\n",
    "client = TavilyClient(api_key)"
   ]
  },
  {
   "cell_type": "code",
   "execution_count": 13,
   "id": "e875c51b-8206-4028-b0f0-aa2cb0766f00",
   "metadata": {},
   "outputs": [
    {
     "name": "stdout",
     "output_type": "stream",
     "text": [
      "Title: The 50 best restaurants in NYC right now: March 2025\n",
      "URL: https://www.timeout.com/newyork/restaurants/100-best-new-york-restaurants\n",
      "Content:\n",
      "🙌Awesome, you're subscribed!\n",
      "Thanks for subscribing! Look out for your first newsletter in your inbox soon!\n",
      "The best of New York straight to your inbox\n",
      "We help you navigate a myriad of possibilities. Sign up for our newsletter for the best of the city.\n",
      "By entering your email address you agree to our Terms of Use and Privacy Policy and consent to receive emails from Time Out about news, events, offers and partner promotions.\n",
      "--------------------------------------------------------------------------------\n",
      "Title: 28 Best Restaurants in New York City, From Beloved Classics to Fearless Newcomers | Condé Nast Traveler\n",
      "URL: https://www.cntraveler.com/gallery/best-restaurants-in-new-york-city\n",
      "Content:\n",
      "North AmericaChevron\n",
      "United StatesChevron\n",
      "New YorkChevron\n",
      "New YorkChevron\n",
      "The best restaurants in New York City run all the gamuts: there's the fine dining and the free-wheeling; the extravagantly expensive and the markedly less so (although very little is downright cheap in this city). We have just about every type of cuisine, presented both traditionally and in multiplying fusions that take the dining experience every which way. And don't even get us started on the best new restaurants in NYC, which so excel at keeping the industry on its toes that we had to make a separate article for the best and buzziest amongst them.\n",
      "--------------------------------------------------------------------------------\n",
      "Title: Best Restaurants in NYC - The New York Times\n",
      "URL: https://www.nytimes.com/interactive/2024/dining/best-nyc-restaurants.html\n",
      "Content:\n",
      "By Pete Wells \n",
      "I should have seen it coming last year when my editors put the following headline on my attempt to name the city’s greatest places to eat: “The 100 Best Restaurants in New York City 2023.”\n",
      "That “2023” implies doing it again in 2024. Still, when they told me that’s exactly what they wanted, my first reaction was surprise. This was followed by the realization that I had a lot of eating to do.\n",
      "Twenty-two places in this edition of “The 100 Best Restaurants in NYC” are new. I’ve eaten at all 100 in the past 12 months, except for La Piraña Lechonera and the Queens Night Market, both of which are currently closed for the season. (I don’t accept free meals from restaurants I write about.)\n",
      "New York is a big city, and I tried to find 100 restaurants that represent its neighborhoods, its people and the rewards it has in store for hungry, curious eaters. The list is a tour. If you take it, you’ll see all five boroughs and a wide array of cooking and serving styles.\n",
      "--------------------------------------------------------------------------------\n",
      "Title: The 25 Best Restaurants In NYC - New York - The Infatuation\n",
      "URL: https://www.theinfatuation.com/new-york/guides/best-restaurants-nyc\n",
      "Content:\n",
      "What are you looking for?\n",
      "photo credit: Kate Previte\n",
      "Bryan Kim, Neha Talreja, Willa Moore, Will Hartman & Sonal Shah\n",
      "January 30, 2025\n",
      "Have you ever woken up and thought, “Gosh, I’d love to eat at a second-best restaurant today?” Of course you haven’t. Whether you’ve lived here your entire life or are visiting for the first time, it’s human nature to want to experience the best of the best. And that’s exactly why we wrote this guide.\n",
      "--------------------------------------------------------------------------------\n"
     ]
    }
   ],
   "source": [
    "from langchain_community.tools import DuckDuckGoSearchResults\n",
    "\n",
    "from langchain_community.tools import DuckDuckGoSearchResults\n",
    "import requests\n",
    "from bs4 import BeautifulSoup\n",
    "\n",
    "search = DuckDuckGoSearchResults(source=\"news\") #backend=\"news\"\n",
    "\n",
    "sd_test = search.invoke(\"Best restaurants NYC\")\n",
    "# Step 1: Perform the Search\n",
    "search = DuckDuckGoSearchResults(source=\"news\")\n",
    "results = search.invoke(\"Best restaurants NYC\")\n",
    "\n",
    "# Step 2: Extract URLs from Results\n",
    "urls = [entry.split(\"link: \")[1].split(\",\")[0] for entry in results.split(\"title:\") if \"link:\" in entry]\n",
    "\n",
    "# Step 3: Scrape Content from Each URL\n",
    "def scrape_url(url):\n",
    "    try:\n",
    "        headers = {\"User-Agent\": \"Mozilla/5.0\"}\n",
    "        response = requests.get(url, headers=headers, timeout=5)\n",
    "        response.raise_for_status()\n",
    "\n",
    "        soup = BeautifulSoup(response.text, \"html.parser\")\n",
    "        title = soup.title.string if soup.title else \"No Title\"\n",
    "        paragraphs = soup.find_all(\"p\")  # Extract paragraphs\n",
    "        content = \"\\n\".join(p.text for p in paragraphs[:5])  # Limit to first 5 paragraphs\n",
    "\n",
    "        return {\"url\": url, \"title\": title, \"content\": content}\n",
    "    \n",
    "    except Exception as e:\n",
    "        return {\"url\": url, \"error\": str(e)}\n",
    "\n",
    "# Step 4: Scrape Each URL\n",
    "scraped_data = [scrape_url(url) for url in urls]\n",
    "\n",
    "# Print the scraped results\n",
    "for data in scraped_data:\n",
    "    print(f\"Title: {data.get('title')}\\nURL: {data['url']}\\nContent:\\n{data.get('content', 'No content extracted.')}\\n{'-'*80}\")\n"
   ]
  },
  {
   "cell_type": "code",
   "execution_count": 19,
   "id": "147b4749-6a51-4385-aa26-b5400843bd87",
   "metadata": {},
   "outputs": [],
   "source": [
    "from langchain_community.document_loaders import WikipediaLoader\n",
    "from langchain_core.messages import get_buffer_string\n",
    "from langchain_community.tools.tavily_search import TavilySearchResults\n",
    "\n",
    "search_instructions = \"\"\"\n",
    "You will be given a conversation between an analyst and an expert.\n",
    "Your goal is to generate a well-structured query for use in retrieval and/or web-search related to the conversation.\n",
    "First, analyze the full conversation\n",
    "Pay particular attention to the final question posed by the analyst\n",
    "Convert this final question into a well-structured web search query\n",
    "\"\"\"\n",
    "\n",
    "def search_web(state: InterviewState):\n",
    "    structured_llm = llm.with_structured_output(SearchQuery)\n",
    "    search_query = structured_llm.invoke([SystemMessage(content=search_instructions)]+state.messages)\n",
    "    # Invalid input type <class 'langchain_core.prompts.chat.ChatPromptTemplate'>. Must be a PromptValue, str, or list of BaseMessages.\n",
    "\n",
    "    tavily_search = TavilySearchResults(max_results=3)\n",
    "    search_docs = tavily_search.invoke(search_query.search_query)\n",
    "\n",
    "    # Format\n",
    "    formatted_search_docs = \"\\n\\n---\\n\\n\".join(\n",
    "        [\n",
    "            f'<Document href=\"{doc[\"url\"]}\"/>\\n{doc[\"content\"]}\\n</Document>'\n",
    "            for doc in search_docs\n",
    "        ]\n",
    "    )\n",
    "\n",
    "    # state.context = formatted_search_docs\n",
    "\n",
    "    return Command(update={\"context\":formatted_search_docs}) #state\n",
    "\n",
    "def search_wikipedia(state: InterviewState):\n",
    "    structured_llm = llm.with_structured_output(SearchQuery)\n",
    "    search_query = structured_llm.invoke([SystemMessage(content=search_instructions)]+state.messages)\n",
    "\n",
    "    search_docs = WikipediaLoader(query=search_query.search_query, load_max_docs=2).load()\n",
    "\n",
    "    # Format\n",
    "    formatted_search_docs = \"\\n\\n---\\n\\n\".join(\n",
    "        [\n",
    "            f'<Document source=\"{doc.metadata[\"source\"]}\" page=\"{doc.metadata.get(\"page\", \"\")}\"/>\\n{doc.page_content}\\n</Document>'\n",
    "            for doc in search_docs\n",
    "        ]\n",
    "    )\n",
    "\n",
    "    # state.context = formatted_search_docs\n",
    "\n",
    "    return Command(update={\"context\":formatted_search_docs}) #state\n",
    "\n",
    "def search_duckduckgo(state: InterviewState):\n",
    "    structured_llm = llm.with_structured_output(SearchQuery)\n",
    "    search_query = structured_llm.invoke([SystemMessage(content=search_instructions)]+state.messages)\n",
    "\n",
    "    search = DuckDuckGoSearchResults(source=\"news\") #backend=\"news\"\n",
    "\n",
    "    results = search.invoke(search_query.search_query)\n",
    "    urls = [entry.split(\"link: \")[1].split(\",\")[0] for entry in results.split(\"title:\") if \"link:\" in entry]\n",
    "    scraped_data = [scrape_url(url) for url in urls]\n",
    "\n",
    "    # Print the scraped results\n",
    "    for data in scraped_data:\n",
    "        search_docs = f\"Title: {data.get('title')}\\nURL: {data['url']}\\nContent:\\n{data.get('content', 'No content extracted.')}\\n{'-'*80}\"\n",
    "\n",
    "\n",
    "\n",
    "    return Command(update={\"context\": search_docs}) #state\n",
    "\n",
    "    "
   ]
  },
  {
   "cell_type": "code",
   "execution_count": 20,
   "id": "919489b7-57b4-4eaf-88de-9405e481abfd",
   "metadata": {},
   "outputs": [],
   "source": [
    "answer_instructions = \"\"\"\n",
    "You are an expert being interviewed by an analyst.\n",
    "Here is the analyst area of focus: {goals}\n",
    "Your goal is to answer a question posed by the interviewer.\n",
    "To answer the question, use this context: {context}\n",
    "When answering questions, follow these guidelines:\n",
    "        \n",
    "1. Use only the information provided in the context.     \n",
    "2. Do not introduce external information or make assumptions beyond what is explicitly stated in the context.\n",
    "3. The context contain sources at the topic of each individual document.\n",
    "4. Include these sources your answer next to any relevant statements. For example, for source # 1 use [1]. \n",
    "5. List your sources in order at the bottom of your answer. [1] Source 1, [2] Source 2, etc   \n",
    "6. If the source is: <Document source=\"assistant/docs/llama3_1.pdf\" page=\"7\"/>' then just list:   \n",
    "[1] assistant/docs/llama3_1.pdf, page 7  \n",
    "And skip the addition of the brackets as well as the Document source preamble in your citation.\n",
    "\"\"\"\n",
    "\n",
    "def generate_answer(state: InterviewState):\n",
    "    \"\"\"answer question from analyst\"\"\"\n",
    "    analyst = state.analyst\n",
    "    messages= state.messages\n",
    "    context = state.context\n",
    "\n",
    "    sys_msg = answer_instructions.format(goals=analyst.persona, context=context)\n",
    "    answer = llm.invoke([SystemMessage(content=sys_msg)]+messages)\n",
    "\n",
    "    answer.name = \"expert\"\n",
    "\n",
    "    return Command(update={\"messages\":[answer]})\n",
    "\n",
    "def save_interview(state: InterviewState):\n",
    "    \"\"\"save the interview between analyst and expert\"\"\"\n",
    "    print(f\"saving inteview with {state.analyst}\")\n",
    "    \n",
    "    messages = state.messages\n",
    "\n",
    "    interview=get_buffer_string(messages)\n",
    "\n",
    "    # state.interview = interview\n",
    "    return Command(update={\"interview\":interview}) #state\n",
    "\n",
    "def route_messages(state: InterviewState):\n",
    "    messages = state.messages\n",
    "    name = \"expert\"\n",
    "\n",
    "    num_responses = len([m for m in messages if isinstance(m, AIMessage) and m.name==name])\n",
    "\n",
    "    if num_responses >= state.max_num_turns:\n",
    "        return NodeName.SAVE_INTERVIEW\n",
    "\n",
    "    last_question = messages[-2]\n",
    "\n",
    "    if \"Thank you for your help\" in last_question.content:\n",
    "        return NodeName.SAVE_INTERVIEW\n",
    "    else:\n",
    "        return NodeName.GENERATE_QUESTION\n",
    "\n",
    "section_writer_instructions = \"\"\"You are an expert technical writer. \n",
    "            \n",
    "Your task is to create a short, easily digestible section of a report based on a set of source documents.\n",
    "\n",
    "1. Analyze the content of the source documents: \n",
    "- The name of each source document is at the start of the document, with the <Document tag.\n",
    "        \n",
    "2. Create a report structure using markdown formatting:\n",
    "- Use ## for the section title\n",
    "- Use ### for sub-section headers\n",
    "        \n",
    "3. Write the report following this structure:\n",
    "a. Title (## header)\n",
    "b. Summary (### header)\n",
    "c. Sources (### header)\n",
    "\n",
    "4. Make your title engaging based upon the focus area of the analyst: \n",
    "{focus}\n",
    "\n",
    "5. For the summary section:\n",
    "- Set up summary with general background / context related to the focus area of the analyst\n",
    "- Emphasize what is novel, interesting, or surprising about insights gathered from the interview\n",
    "- Create a numbered list of source documents, as you use them\n",
    "- Do not mention the names of interviewers or experts\n",
    "- Aim for approximately 400 words maximum\n",
    "- Use numbered sources in your report (e.g., [1], [2]) based on information from source documents\n",
    "        \n",
    "6. In the Sources section:\n",
    "- Include all sources used in your report\n",
    "- Provide full links to relevant websites or specific document paths\n",
    "- Separate each source by a newline. Use two spaces at the end of each line to create a newline in Markdown.\n",
    "- It will look like:\n",
    "\n",
    "### Sources\n",
    "[1] Link or Document name\n",
    "[2] Link or Document name\n",
    "\n",
    "7. Be sure to combine sources. For example this is not correct:\n",
    "\n",
    "[3] https://ai.meta.com/blog/meta-llama-3-1/\n",
    "[4] https://ai.meta.com/blog/meta-llama-3-1/\n",
    "\n",
    "There should be no redundant sources. It should simply be:\n",
    "\n",
    "[3] https://ai.meta.com/blog/meta-llama-3-1/\n",
    "        \n",
    "8. Final review:\n",
    "- Ensure the report follows the required structure\n",
    "- Include no preamble before the title of the report\n",
    "- Check that all guidelines have been followed\n",
    "\"\"\"\n",
    "\n",
    "def write_section(state: InterviewState):\n",
    "\n",
    "    \"\"\" Node to answer a question \"\"\"\n",
    "    # Get state\n",
    "    interview = state.interview\n",
    "    context = state.context\n",
    "    analyst = state.analyst\n",
    "   \n",
    "    # Write section using either the gathered source docs from interview (context) or the interview itself (interview)\n",
    "    system_message = section_writer_instructions.format(focus=analyst.description)\n",
    "    section = llm.invoke([SystemMessage(content=system_message)]+[HumanMessage(content=f\"Use this source to write your section: {context}\")]) \n",
    "                \n",
    "    # Append it to state\n",
    "    state.sections = section.content\n",
    "    return state\n"
   ]
  },
  {
   "cell_type": "code",
   "execution_count": 21,
   "id": "f7d3653b-7b74-459e-94f7-c1e018599f6b",
   "metadata": {},
   "outputs": [],
   "source": [
    "# Add nodes and edges \n",
    "interview_builder = StateGraph(InterviewState)\n",
    "interview_builder.add_node(NodeName.GENERATE_QUESTION, generate_question)\n",
    "interview_builder.add_node(\"search_web\", search_web)\n",
    "interview_builder.add_node(\"search_wikipedia\", search_wikipedia) \n",
    "interview_builder.add_node(\"search_duckduckgo\", search_duckduckgo)\n",
    "interview_builder.add_node(\"answer_question\", generate_answer)\n",
    "interview_builder.add_node(\"save_interview\", save_interview)\n",
    "interview_builder.add_node(\"write_section\", write_section)\n",
    "\n",
    "# Flow\n",
    "interview_builder.add_edge(START, NodeName.GENERATE_QUESTION)\n",
    "interview_builder.add_edge(NodeName.GENERATE_QUESTION, \"search_web\")\n",
    "interview_builder.add_edge(NodeName.GENERATE_QUESTION, \"search_wikipedia\")\n",
    "interview_builder.add_edge(NodeName.GENERATE_QUESTION, \"search_duckduckgo\")\n",
    "interview_builder.add_edge(\"search_web\", \"answer_question\")\n",
    "interview_builder.add_edge(\"search_wikipedia\", \"answer_question\")\n",
    "interview_builder.add_edge(\"search_duckduckgo\", \"answer_question\")\n",
    "interview_builder.add_conditional_edges(\n",
    "        \"answer_question\", route_messages,\n",
    "        [NodeName.GENERATE_QUESTION, 'save_interview']\n",
    "    )\n",
    "# interview_builder.add_conditional_edges(\"answer_question\", route_messages,[NodeName.GENERATE_QUESTION,'save_interview'])\n",
    "interview_builder.add_edge(\"save_interview\", \"write_section\")\n",
    "interview_builder.add_edge(\"write_section\", END)\n",
    "\n",
    "# Interview \n",
    "memory = MemorySaver()\n",
    "interview_graph = interview_builder.compile(checkpointer=memory).with_config(run_name=\"Conduct Interviews\")\n"
   ]
  },
  {
   "cell_type": "code",
   "execution_count": 146,
   "id": "119a979d-4542-414e-92b1-75993bdd0d52",
   "metadata": {},
   "outputs": [
    {
     "data": {
      "image/png": "[encoded data removed]",
      "text/plain": [
       "<IPython.core.display.Image object>"
      ]
     },
     "metadata": {},
     "output_type": "display_data"
    }
   ],
   "source": [
    "display(Image(interview_builder.compile(checkpointer=memory).get_graph().draw_mermaid_png()))"
   ]
  },
  {
   "cell_type": "code",
   "execution_count": 17,
   "id": "33569ec1-3cfa-4fd8-afe6-366251426593",
   "metadata": {},
   "outputs": [
    {
     "data": {
      "text/plain": [
       "{'topic': 'best food to eat in NYC',\n",
       " 'max_analysts': 3,\n",
       " 'analysts': Perspectives(analysts=[Analyst(name='Gastronomic Historian', role='Cultural Analyst', description=\"Focused on the historical and cultural significance of various foods found in NYC. This analyst explores how immigrant communities have influenced the city's culinary landscape, examining traditional dishes and their evolution over time. Their motive is to provide a rich, historical context to the food scene in NYC.\"), Analyst(name='Trend Tracker', role='Contemporary Food Analyst', description=\"Examines the current food trends in NYC, including popular new restaurants, viral food items, and emerging culinary movements. This analyst is concerned with what's hot and trending in the city's dynamic food scene, aiming to identify what makes certain foods or dining experiences popular at any given time.\"), Analyst(name='Health-Conscious Foodie', role='Nutritional Analyst', description='Focuses on the health aspects of foods available in NYC. This analyst evaluates the nutritional value of popular dishes, seeks out healthy eating options, and investigates how restaurants are adapting to dietary trends such as plant-based diets and gluten-free menus. Their goal is to guide health-conscious individuals to make informed dining choices in the city.')])}"
      ]
     },
     "execution_count": 17,
     "metadata": {},
     "output_type": "execute_result"
    }
   ],
   "source": [
    "graph.get_state(thread).values"
   ]
  },
  {
   "cell_type": "code",
   "execution_count": 22,
   "id": "03a59578-4ec9-4067-8c6d-c8f0175d0310",
   "metadata": {},
   "outputs": [
    {
     "name": "stdout",
     "output_type": "stream",
     "text": [
      "saving inteview with name='Gastronomic Historian' role='Cultural Analyst' description=\"Focused on the historical and cultural significance of various foods found in NYC. This analyst explores how immigrant communities have influenced the city's culinary landscape, examining traditional dishes and their evolution over time. Their motive is to provide a rich, historical context to the food scene in NYC.\"\n"
     ]
    },
    {
     "data": {
      "text/markdown": [
       "## Savoring History: The Culinary Tapestry of New York City\n",
       "\n",
       "### Summary\n",
       "\n",
       "New York City, a vibrant mosaic of cultures and traditions, has a culinary landscape profoundly shaped by waves of immigrants. Each ethnic group that arrived in the city brought with them their unique culinary traditions, which have since melded into the broader narrative of New York’s food scene. This dynamic fusion of flavors not only reflects the diverse population but also tells the rich history of the city's evolution through food.\n",
       "\n",
       "New York’s culinary history is a testament to its role as a melting pot. The city's food scene, from the bustling streets of Manhattan to the multicultural neighborhoods of Brooklyn, is a tapestry woven with the threads of immigrant influence. For instance, Italian immigrants played a pivotal role in popularizing pizza, which transformed from its Neapolitan roots to the iconic New York slice known for its thin, foldable crust and generous toppings [1][2]. Similarly, Jewish immigrants from Eastern Europe introduced foods like bagels, pastrami, and knishes, now quintessentially associated with New York’s identity, especially in areas like the Lower East Side [3].\n",
       "\n",
       "Moreover, the city's Chinese community has significantly influenced its culinary landscape. With dishes like chow mein and dandan noodles, these culinary offerings have evolved over time, adapting to the changing social sentiments and preferences of New Yorkers [4]. The introduction of Sichuan and Hunan cuisines in the post-Cultural Revolution era further enriched the city's food scene [4].\n",
       "\n",
       "The influence of Latin American immigrants is also evident, with tacos, empanadas, and arepas becoming as integral to New York’s food scene as traditional American staples like hot dogs and hamburgers [3]. These diverse culinary offerings are not just about feeding people; they are about sharing cultures and creating connections through food.\n",
       "\n",
       "What's particularly fascinating is how immigrant communities have not only introduced specific dishes but also shaped how New Yorkers dine. The concept of food markets, street vendors, and food trucks heavily draws from immigrant traditions, bringing the flavors of the world to the streets of New York [3].\n",
       "\n",
       "In essence, New York’s food scene is a living history, where each bite tells a story of migration, adaptation, and cultural exchange. As new waves of immigrants continue to arrive, they bring with them new traditions and ideas, ensuring that the city’s culinary landscape will continue to evolve and grow richer with time.\n",
       "\n",
       "### Sources\n",
       "[1] https://www.wanderlustingk.com/travel-blog/manhattan-new-york-pizza  \n",
       "[2] https://en.wikipedia.org/wiki/New_York%E2%80%93style_pizza  \n",
       "[3] https://voyageny.com/the-impact-of-immigrant-communities-on-new-yorks-rich-culture/  \n",
       "[4] https://scholarblogs.emory.edu/noodles/2018/07/03/evolution-of-chinese-noodles-in-nyc-a-tale-of-immigration-and-adaptation-dylan-frank/  \n",
       "[5] https://www.respectbrooklyn.org/the-melting-pot-how-ethnic-groups-have-shaped-new-york-s-historical-heritage  "
      ],
      "text/plain": [
       "<IPython.core.display.Markdown object>"
      ]
     },
     "execution_count": 22,
     "metadata": {},
     "output_type": "execute_result"
    }
   ],
   "source": [
    "from IPython.display import Markdown\n",
    "messages = [HumanMessage(f\"So you said you were writing an article on {topic}?\")]\n",
    "# thread = {\"configurable\": {\"thread_id\": \"2\"}}\n",
    "interview = interview_graph.invoke({\"analyst\": graph.get_state(thread).values['analysts'].analysts[0], \"messages\": messages}, thread)\n",
    "\n",
    "Markdown(interview['sections'][0].content)"
   ]
  },
  {
   "cell_type": "code",
   "execution_count": 17,
   "id": "ea6cf8f4-614d-48f4-ab3d-ed90a60157df",
   "metadata": {},
   "outputs": [
    {
     "data": {
      "text/plain": [
       "\"Name Gastronomic Historian\\nRole: Culinary Culture Analyst\\n Description: Focuses on the historical and cultural evolution of food in NYC, exploring iconic dishes and the diverse culinary influences that have shaped the city's food scene over the decades. Interested in how immigrant communities have contributed to NYC's culinary landscape and what traditional foods have stood the test of time.\""
      ]
     },
     "execution_count": 17,
     "metadata": {},
     "output_type": "execute_result"
    }
   ],
   "source": [
    "graph.get_state(thread).values['analysts'].analysts[0].persona"
   ]
  },
  {
   "cell_type": "code",
   "execution_count": 32,
   "id": "9f3bf232-ad87-4c4b-a13f-de07eb87921d",
   "metadata": {},
   "outputs": [
    {
     "data": {
      "text/plain": [
       "[HumanMessage(content='So you said you were writing an article on best food to eat in NYC?', additional_kwargs={}, response_metadata={}, id='ca85febc-18c9-4778-86df-6f4015552b24'),\n",
       " AIMessage(content=\"Greetings! I am Dr. Eleanor Savore, a Gastronomic Historian and Culinary Culture Analyst. My work delves into the fascinating historical and cultural evolution of food in New York City. I'm particularly interested in how immigrant communities have shaped NYC's culinary landscape over time. Shall we explore some of these iconic dishes and enduring culinary influences together?\\n\\nTo begin, could you share an example of a specific immigrant community that has significantly influenced NYC's culinary scene, and perhaps highlight a dish that exemplifies this impact?\", additional_kwargs={'refusal': None}, response_metadata={'token_usage': {'completion_tokens': 102, 'prompt_tokens': 226, 'total_tokens': 328, 'completion_tokens_details': {'accepted_prediction_tokens': 0, 'audio_tokens': 0, 'reasoning_tokens': 0, 'rejected_prediction_tokens': 0}, 'prompt_tokens_details': {'audio_tokens': 0, 'cached_tokens': 0}}, 'model_name': 'gpt-4o-2024-08-06', 'system_fingerprint': 'fp_6ec83003ad', 'finish_reason': 'stop', 'logprobs': None}, id='run-12e74082-1b32-45af-96bf-66c76ef6c295-0', usage_metadata={'input_tokens': 226, 'output_tokens': 102, 'total_tokens': 328, 'input_token_details': {'audio': 0, 'cache_read': 0}, 'output_token_details': {'audio': 0, 'reasoning': 0}})]"
      ]
     },
     "execution_count": 32,
     "metadata": {},
     "output_type": "execute_result"
    }
   ],
   "source": [
    "interview_graph.get_state(thread).values['messages']"
   ]
  },
  {
   "cell_type": "code",
   "execution_count": 39,
   "id": "95b9a276-730c-4fc0-a6c9-8ceaa83c277c",
   "metadata": {},
   "outputs": [
    {
     "data": {
      "text/plain": [
       "'## New York City\\'s Culinary Tapestry: A Historical and Cultural Exploration\\n\\n### Summary\\n\\nNew York City\\'s rich culinary history is a testament to the diverse immigrant communities that have shaped its vibrant food scene. Throughout the decades, iconic dishes like bagels, pastrami, and hot dogs have become synonymous with the city\\'s culinary identity, each carrying a unique story of cultural adaptation and fusion. The influx of immigrants from various regions of the world has led to the development of a unique food culture that offers an array of flavors and traditions.\\n\\nOne of the fascinating aspects of New York City\\'s food history is the role played by Jewish immigrants, particularly those from Eastern Europe, who introduced foods such as bagels and pastrami. The bagel, a staple in Jewish cuisine, found its way to New York in the mid-19th century and quickly became a beloved breakfast option across the city. Pastrami, another iconic dish, was popularized by Jewish delis like Katz\\'s, where the hand-cut, smoky meat became a culinary staple [1][2].\\n\\nChinese immigrants have also left an indelible mark on New York City\\'s food landscape. With the arrival of Chinese immigrants in the 19th century and subsequent waves throughout the 20th century, dishes such as chow mein and Shaanxi noodles became popular. The adaptation of these dishes to suit American palates highlights the dynamic nature of culinary evolution in response to changing demographics and tastes [3][4].\\n\\nFurthermore, the German contribution to New York\\'s street food culture cannot be overlooked. The ubiquitous hot dog, often referred to as a \"dirty water dog,\" became a symbol of New York\\'s casual dining scene. This culinary tradition traces its roots back to German immigrants in the 1840s, who brought with them the concept of selling frankfurters on street corners [1][5].\\n\\nDespite the changes in the city\\'s socio-economic landscape, many traditional foods have stood the test of time, continuing to be cherished by both locals and tourists. The enduring popularity of these dishes is a testament to their cultural significance and the way they encapsulate the diverse heritage of New York City.\\n\\nThe culinary narrative of New York City is a story of resilience, adaptation, and innovation. As new immigrant communities continue to arrive, they bring with them an array of flavors and traditions, ensuring that New York City\\'s food scene remains as vibrant and diverse as ever.\\n\\n### Sources\\n[1] https://www.nationalgeographic.com/travel/article/new-york-city-immigrant-past-through-food  \\n[2] https://www.likealocaltours.com/blog/2018-immigrant-ny-lower-east-side-food-tour/  \\n[3] https://scholarblogs.emory.edu/noodles/2018/07/03/evolution-of-chinese-noodles-in-nyc-a-tale-of-immigration-and-adaptation-dylan-frank/  \\n[4] https://medium.com/@kirstyfraser/cooking-their-american-dream-from-immigrant-to-food-entrepreneur-299e8d2a5782  \\n[5] https://ny.eater.com/maps/new-york-city-iconic-foods-best-dishes  '"
      ]
     },
     "execution_count": 39,
     "metadata": {},
     "output_type": "execute_result"
    }
   ],
   "source": [
    "interview['sections'][0]"
   ]
  },
  {
   "cell_type": "code",
   "execution_count": 23,
   "id": "a0334fdb-70ad-48a1-b9f1-7ff2ca25acfa",
   "metadata": {},
   "outputs": [],
   "source": [
    "class ResearchGraphState(BaseModel):\n",
    "    topic: str\n",
    "    max_analysts: int = 3\n",
    "    human_analyst_feedback: Optional[str] = None\n",
    "    analysts: Optional[Perspectives] = None #List[Analysts]\n",
    "    sections: Annotated[list, operator.add] = []\n",
    "    introduction: str = \"\"\n",
    "    content: str = \"\"\n",
    "    conclusion: str = \"\"\n",
    "    final_report: str = \"\"\n",
    "\n",
    "\n",
    "def initiate_all_interviews(state: ResearchGraphState):\n",
    "    print(\"initializing interviews\")\n",
    "    analyst_list = [analyst for analyst in state.analysts][0][1]\n",
    "    print(analyst_list)\n",
    "    return [Send(\"conduct_interview\", {\"analyst\": analyst,\n",
    "                                           \"messages\": [HumanMessage(\n",
    "                                               content=f\"So you said you were writing an article on {state.topic}?\"\n",
    "                                           )\n",
    "                                                       ]}) for analyst in analyst_list]\n"
   ]
  },
  {
   "cell_type": "code",
   "execution_count": 24,
   "id": "d32a8e38-ca9a-469d-b919-af72d05d9b1f",
   "metadata": {},
   "outputs": [],
   "source": [
    "report_writer_instructions = \"\"\"You are a technical writer creating a report on this overall topic: \n",
    "\n",
    "{topic}\n",
    "    \n",
    "You have a team of analysts. Each analyst has done two things: \n",
    "\n",
    "1. They conducted an interview with an expert on a specific sub-topic.\n",
    "2. They write up their finding into a memo.\n",
    "\n",
    "Your task: \n",
    "\n",
    "1. You will be given a collection of memos from your analysts.\n",
    "2. Think carefully about the insights from each memo.\n",
    "3. Consolidate these into a crisp overall summary that ties together the central ideas from all of the memos. \n",
    "4. Summarize the central points in each memo into a cohesive single narrative.\n",
    "\n",
    "To format your report:\n",
    " \n",
    "1. Use markdown formatting. \n",
    "2. Include no pre-amble for the report.\n",
    "3. Use no sub-heading. \n",
    "4. Start your report with a single title header: ## Insights\n",
    "5. Do not mention any analyst names in your report.\n",
    "6. Preserve any citations in the memos, which will be annotated in brackets, for example [1] or [2].\n",
    "7. Create a final, consolidated list of sources and add to a Sources section with the `## Sources` header.\n",
    "8. List your sources in order and do not repeat.\n",
    "\n",
    "[1] Source 1\n",
    "[2] Source 2\n",
    "\n",
    "Here are the memos from your analysts to build your report from: \n",
    "\n",
    "{context}\"\"\"\n",
    "\n",
    "def write_report(state: ResearchGraphState):\n",
    "    sections = state.sections\n",
    "    topic = state.topic\n",
    "\n",
    "    # Concat all sections together\n",
    "    formatted_str_sections = \"\\n\\n\".join([f\"{section}\" for section in sections])\n",
    "    system_message = report_writer_instructions.format(topic=topic, context=formatted_str_sections)\n",
    "    report = llm.invoke([SystemMessage(content=system_message)]+[HumanMessage(content=f\"Write a report based upon these memos.\")])\n",
    "\n",
    "    return Command(update={'content':report.content}, goto=NodeName.WRITE_INTRODUCTION)\n",
    "\n",
    "intro_conclusion_instructions = \"\"\"You are a technical writer finishing a report on {topic}\n",
    "\n",
    "You will be given all of the sections of the report.\n",
    "\n",
    "You job is to write a crisp and compelling introduction or conclusion section.\n",
    "\n",
    "The user will instruct you whether to write the introduction or conclusion.\n",
    "\n",
    "Include no pre-amble for either section.\n",
    "\n",
    "Target around 100 words, crisply previewing (for introduction) or recapping (for conclusion) all of the sections of the report.\n",
    "\n",
    "Use markdown formatting. \n",
    "\n",
    "For your introduction, create a compelling title and use the # header for the title.\n",
    "\n",
    "For your introduction, use ## Introduction as the section header. \n",
    "\n",
    "For your conclusion, use ## Conclusion as the section header.\n",
    "\n",
    "Here are the sections to reflect on for writing: {content}\"\"\"\n",
    "    \n",
    "def write_introduction(state: ResearchGraphState):\n",
    "    content = state.content\n",
    "    system_message = intro_conclusion_instructions.format(topic=topic, content=content)\n",
    "    introduction = llm.invoke([SystemMessage(content=system_message)]+[HumanMessage(content=f\"Write the report introduction.\")])\n",
    "    \n",
    "    return Command(update={'introduction':introduction}, goto=NodeName.WRITE_CONCLUSION)\n",
    "\n",
    "def write_conclusion(state: ResearchGraphState):\n",
    "    content = state.content\n",
    "    system_message = intro_conclusion_instructions.format(topic=topic, content=content)\n",
    "    conclusion = llm.invoke([SystemMessage(content=system_message)]+[HumanMessage(content=f\"Write the report conclusion.\")])\n",
    "    \n",
    "    return Command(update={'conclusion':conclusion}, goto=NodeName.FINALIZE_REPORT)\n",
    "\n",
    "def finalize_report(state: ResearchGraphState):\n",
    "    content = state.content\n",
    "    introduction = state.introduction\n",
    "    conclusion = state.conclusion\n",
    "\n",
    "    print(f\"DEBUG intro: {introduction.content}\")\n",
    "    print(f\"DEBUG content: {content}\")\n",
    "    print(f\"DEBUG conclusion: {conclusion.content}\")\n",
    "\n",
    "    if content.startswith(\"## Insights\"):\n",
    "        content = content.strip(\"## Insights\")\n",
    "    if \"## Sources\" in content:\n",
    "        try:\n",
    "            content, sources = content.split(\"## Sources\")\n",
    "        except:\n",
    "            sources = None\n",
    "    final_report = introduction.content + \"\\n\\n---\\n\\n\" + content + \"\\n\\n---\\n\\n\" + conclusion.content\n",
    "    if sources is not None:\n",
    "        final_report += \"\\n\\n## Sources\\n\" + sources\n",
    "    return Command(update={\"final_report\": final_report}, goto=END)\n"
   ]
  },
  {
   "cell_type": "code",
   "execution_count": 25,
   "id": "60ab7cb6-7308-486e-a74c-3995daedb355",
   "metadata": {},
   "outputs": [
    {
     "data": {
      "image/png": "[encoded data removed]",
      "text/plain": [
       "<IPython.core.display.Image object>"
      ]
     },
     "metadata": {},
     "output_type": "display_data"
    }
   ],
   "source": [
    "# Add nodes and edges \n",
    "builder = StateGraph(ResearchGraphState)\n",
    "builder.add_node(NodeName.CREATE_ANALYSTS, create_analysts)\n",
    "builder.add_node(NodeName.HUMAN_FEEDBACK, human_feedback)\n",
    "builder.add_node(NodeName.CONDUCT_INTERVIEW, interview_builder.compile())\n",
    "builder.add_node(NodeName.WRITE_REPORT,write_report)\n",
    "builder.add_node(NodeName.WRITE_INTRODUCTION,write_introduction)\n",
    "builder.add_node(NodeName.WRITE_CONCLUSION,write_conclusion)\n",
    "builder.add_node(NodeName.FINALIZE_REPORT,finalize_report)\n",
    "\n",
    "\n",
    "builder.add_edge(START, NodeName.CREATE_ANALYSTS)\n",
    "builder.add_edge(NodeName.CREATE_ANALYSTS, NodeName.HUMAN_FEEDBACK)\n",
    "builder.add_conditional_edges(\n",
    "        NodeName.HUMAN_FEEDBACK,\n",
    "        initiate_all_interviews,\n",
    "        [NodeName.CREATE_ANALYSTS, NodeName.CONDUCT_INTERVIEW]\n",
    "    )\n",
    "builder.add_edge(NodeName.CONDUCT_INTERVIEW, NodeName.WRITE_REPORT)\n",
    "builder.add_edge(NodeName.WRITE_REPORT, NodeName.WRITE_INTRODUCTION)\n",
    "builder.add_edge(NodeName.WRITE_REPORT, NodeName.WRITE_CONCLUSION)\n",
    "builder.add_edge([NodeName.WRITE_INTRODUCTION, NodeName.WRITE_CONCLUSION], NodeName.FINALIZE_REPORT)\n",
    "builder.add_edge(NodeName.FINALIZE_REPORT, END)\n",
    "\n",
    "# Interview \n",
    "memory = MemorySaver()\n",
    "final_graph = builder.compile(checkpointer=memory).with_config(run_name=\"Write Report\")\n",
    "display(Image(final_graph.get_graph(xray=1).draw_mermaid_png()))"
   ]
  },
  {
   "cell_type": "code",
   "execution_count": 140,
   "id": "269e0194-2669-4283-bb73-bf147c8ae51b",
   "metadata": {},
   "outputs": [
    {
     "name": "stdout",
     "output_type": "stream",
     "text": [
      "analysts=[Analyst(name='Culinary Critic Clara', role='Food Critic', description=\"Clara focuses on reviewing the culinary aspects of NYC restaurants. Her main concern is the quality of the dishes, the creativity of the menu, and how well the restaurant executes its culinary vision. She is motivated by finding hidden gems and providing her audience with authentic, in-depth reviews of the city's top dining experiences.\"), Analyst(name='Atmosphere Analyst Alex', role='Restaurant Experience Evaluator', description=\"Alex evaluates the overall dining experience at NYC restaurants, focusing on the atmosphere, decor, service, and ambiance. His concerns are how these elements enhance or detract from the dining experience. Alex is driven by the desire to help diners find the perfect setting for various occasions, whether it's a romantic dinner or a lively brunch with friends.\"), Analyst(name='Budget-Friendly Brenda', role='Affordable Dining Specialist', description=\"Brenda specializes in finding the best NYC restaurants that offer great value for money. Her focus is on identifying places where diners can enjoy quality meals without breaking the bank. Brenda's primary concern is the cost-to-quality ratio, and she is motivated by helping budget-conscious individuals discover excellent dining options in a city known for its expensive culinary scene.\")]\n"
     ]
    },
    {
     "name": "stdout",
     "output_type": "stream",
     "text": [
      "Please input any feedback for the analysts:  \n"
     ]
    },
    {
     "name": "stdout",
     "output_type": "stream",
     "text": [
      "\n",
      "Agent Response: \n",
      "\n",
      "\n",
      "human feedback: \n",
      "initializing interviews\n",
      "[Analyst(name='Culinary Critic Clara', role='Food Critic', description=\"Clara focuses on reviewing the culinary aspects of NYC restaurants. Her main concern is the quality of the dishes, the creativity of the menu, and how well the restaurant executes its culinary vision. She is motivated by finding hidden gems and providing her audience with authentic, in-depth reviews of the city's top dining experiences.\"), Analyst(name='Atmosphere Analyst Alex', role='Restaurant Experience Evaluator', description=\"Alex evaluates the overall dining experience at NYC restaurants, focusing on the atmosphere, decor, service, and ambiance. His concerns are how these elements enhance or detract from the dining experience. Alex is driven by the desire to help diners find the perfect setting for various occasions, whether it's a romantic dinner or a lively brunch with friends.\"), Analyst(name='Budget-Friendly Brenda', role='Affordable Dining Specialist', description=\"Brenda specializes in finding the best NYC restaurants that offer great value for money. Her focus is on identifying places where diners can enjoy quality meals without breaking the bank. Brenda's primary concern is the cost-to-quality ratio, and she is motivated by helping budget-conscious individuals discover excellent dining options in a city known for its expensive culinary scene.\")]\n",
      "saving inteview with name='Culinary Critic Clara' role='Food Critic' description=\"Clara focuses on reviewing the culinary aspects of NYC restaurants. Her main concern is the quality of the dishes, the creativity of the menu, and how well the restaurant executes its culinary vision. She is motivated by finding hidden gems and providing her audience with authentic, in-depth reviews of the city's top dining experiences.\"\n",
      "saving inteview with name='Budget-Friendly Brenda' role='Affordable Dining Specialist' description=\"Brenda specializes in finding the best NYC restaurants that offer great value for money. Her focus is on identifying places where diners can enjoy quality meals without breaking the bank. Brenda's primary concern is the cost-to-quality ratio, and she is motivated by helping budget-conscious individuals discover excellent dining options in a city known for its expensive culinary scene.\"\n",
      "saving inteview with name='Atmosphere Analyst Alex' role='Restaurant Experience Evaluator' description=\"Alex evaluates the overall dining experience at NYC restaurants, focusing on the atmosphere, decor, service, and ambiance. His concerns are how these elements enhance or detract from the dining experience. Alex is driven by the desire to help diners find the perfect setting for various occasions, whether it's a romantic dinner or a lively brunch with friends.\"\n",
      "DEBUG intro: # Best NYC Restaurants: A Culinary Odyssey\n",
      "\n",
      "## Introduction\n",
      "\n",
      "New York City, renowned for its vibrant and diverse culinary landscape, offers an unparalleled gastronomic journey. This report delves into the city's dynamic dining scene, where innovation and diversity converge to create unforgettable experiences. From emerging restaurants pushing culinary boundaries with unique fusions and high-quality dishes, to the importance of ambiance in enhancing the dining experience, NYC's eateries set global standards. Additionally, the report explores the city's commitment to affordability, with neighborhoods like Chinatown and Queens offering budget-friendly yet authentic flavors. Join us as we uncover the culinary gems that make NYC a hub for food enthusiasts worldwide.\n",
      "DEBUG content: ## Insights\n",
      "\n",
      "New York City's culinary landscape is a vibrant tapestry that encompasses a wide array of dining experiences, reflecting the city's diverse cultural influences and innovative spirit. The integration of creativity, ambiance, and affordability into NYC's dining scene solidifies its reputation as a global gastronomic hub.\n",
      "\n",
      "A central theme in the city's culinary narrative is the emergence of new restaurants that push the boundaries of creativity and quality. Establishments like Figure Eight integrate Chinese-American elements with lower Atlantic coast flavors, creating standout dishes such as their renowned seafood tower [1]. Similarly, a bistro in Fort Greene, helmed by culinary titans Gabriel Stulman and April Bloomfield, offers a seasonally influenced menu that has captured the attention of diners with items like chilled martinis and a perfectly executed roast chicken [1]. In Williamsburg, Dhamaka presents a Cantonese-American fusion menu, where inventive dishes like a bean curd twist on cacio e pepe and an MSG Martini showcase a commitment to excellence [1].\n",
      "\n",
      "The ambiance of NYC's restaurants is equally significant, as the atmosphere often elevates the dining experience. The strategic use of noise, decor, and colors can influence diner behavior and preferences. Establishments may intentionally create a lively environment to encourage quick table turnover or, conversely, opt for a relaxed setting with soft lighting to invite leisurely dining [1][2]. Thematic decor, such as nautical elements in seafood restaurants, can enhance the overall dining experience by influencing diners' choices [3]. Service quality also plays a crucial role, with attentive and friendly staff contributing to a positive ambiance that ensures customer satisfaction [5].\n",
      "\n",
      "Affordability remains a key consideration for many diners, and NYC does not disappoint in offering budget-friendly yet high-quality options. Chinatown, particularly around Canal and Mott streets, is celebrated for its affordable Chinese cuisine [1]. Diverse neighborhoods such as Queens provide authentic and inexpensive dining experiences, reflecting the city's rich immigrant culture [2][5]. Street food, local markets, and grab-and-go options like Los Tacos No. 1 and Joe’s Pizza offer delicious meals without the hefty price tag [6][7]. Additionally, eateries embracing creative and fusion cuisines, such as Wahizza's Rabo pizza, demonstrate NYC's innovative culinary landscape at a low cost [4].\n",
      "\n",
      "These insights collectively highlight NYC's dynamic culinary scene, where the fusion of diverse cultural influences, innovative dining concepts, and varied price points create a rich tapestry of gastronomic experiences. Whether seeking a high-end meal, the perfect dining ambiance, or an affordable culinary adventure, NYC offers something for every palate and occasion.\n",
      "\n",
      "## Sources\n",
      "\n",
      "[1] https://www.timeout.com/newyork/restaurants/100-best-new-york-restaurants  \n",
      "[2] https://www.nytimes.com/interactive/2024/dining/best-nyc-restaurants.html  \n",
      "[3] https://www.theinfatuation.com/new-york/guides/best-restaurants-nyc  \n",
      "[4] https://flavourjournal.biomedcentral.com/articles/10.1186/2044-7248-3-9  \n",
      "[5] https://www.psychologytoday.com/us/blog/out-of-the-ooze/201704/the-ambience-of-a-restaurant-controls-what-we-eat-and-drink  \n",
      "[6] https://www.cuboh.com/blog/restaurant-decor  \n",
      "[7] https://observer.com/2018/01/my-terrible-meal-at-salt-baes-nusr-et-nyc-restaurant-review/  \n",
      "[8] https://www.quora.com/What-are-the-best-budget-restaurants-in-NYC-if-youre-there-for-five-days  \n",
      "[9] https://www.reddit.com/r/FoodNYC/comments/1djv36c/best_food_on_a_budget_in_nyc/  \n",
      "[10] https://ny.eater.com/maps/best-affordable-restaurants-nyc-cheap-food-new-york-city  \n",
      "[11] https://gothamist.com/arts-entertainment/10-of-the-best-low-budget-meals-in-new-york-city-that-are-worth-the-journey  \n",
      "[12] https://www.reddit.com/r/FoodNYC/comments/1dmv02u/recommendations_for_foodies_visiting_nyc_on_a/  \n",
      "[13] https://davidsbeenhere.com/2024/08/10/how-to-eat-in-new-york-on-a-budget/  \n",
      "[14] https://ultimatefoodtours.com/blog/eat-in-nyc-on-a-budget  \n",
      "DEBUG conclusion: ## Conclusion\n",
      "\n",
      "In reviewing the best restaurants in New York City, it's evident that the culinary landscape is as diverse and dynamic as the city itself. NYC's dining scene thrives on innovation, with new establishments like Figure Eight and Dhamaka redefining creative and quality standards. The importance of ambiance, from strategic decor to attentive service, enhances the dining experience, while affordability remains a hallmark of the city's offerings. From the vibrant streets of Chinatown to the diverse neighborhoods of Queens, NYC delivers an array of budget-friendly yet high-quality options. Together, these elements create a rich tapestry of gastronomic experiences that cater to every palate and preference.\n",
      "DEBUG intro: # Best NYC Restaurants: A Culinary Odyssey\n",
      "\n",
      "## Introduction\n",
      "\n",
      "New York City, renowned for its vibrant and diverse culinary landscape, offers an unparalleled gastronomic journey. This report delves into the city's dynamic dining scene, where innovation and diversity converge to create unforgettable experiences. From emerging restaurants pushing culinary boundaries with unique fusions and high-quality dishes, to the importance of ambiance in enhancing the dining experience, NYC's eateries set global standards. Additionally, the report explores the city's commitment to affordability, with neighborhoods like Chinatown and Queens offering budget-friendly yet authentic flavors. Join us as we uncover the culinary gems that make NYC a hub for food enthusiasts worldwide.\n",
      "DEBUG content: ## Insights\n",
      "\n",
      "New York City's culinary landscape is a vibrant tapestry that encompasses a wide array of dining experiences, reflecting the city's diverse cultural influences and innovative spirit. The integration of creativity, ambiance, and affordability into NYC's dining scene solidifies its reputation as a global gastronomic hub.\n",
      "\n",
      "A central theme in the city's culinary narrative is the emergence of new restaurants that push the boundaries of creativity and quality. Establishments like Figure Eight integrate Chinese-American elements with lower Atlantic coast flavors, creating standout dishes such as their renowned seafood tower [1]. Similarly, a bistro in Fort Greene, helmed by culinary titans Gabriel Stulman and April Bloomfield, offers a seasonally influenced menu that has captured the attention of diners with items like chilled martinis and a perfectly executed roast chicken [1]. In Williamsburg, Dhamaka presents a Cantonese-American fusion menu, where inventive dishes like a bean curd twist on cacio e pepe and an MSG Martini showcase a commitment to excellence [1].\n",
      "\n",
      "The ambiance of NYC's restaurants is equally significant, as the atmosphere often elevates the dining experience. The strategic use of noise, decor, and colors can influence diner behavior and preferences. Establishments may intentionally create a lively environment to encourage quick table turnover or, conversely, opt for a relaxed setting with soft lighting to invite leisurely dining [1][2]. Thematic decor, such as nautical elements in seafood restaurants, can enhance the overall dining experience by influencing diners' choices [3]. Service quality also plays a crucial role, with attentive and friendly staff contributing to a positive ambiance that ensures customer satisfaction [5].\n",
      "\n",
      "Affordability remains a key consideration for many diners, and NYC does not disappoint in offering budget-friendly yet high-quality options. Chinatown, particularly around Canal and Mott streets, is celebrated for its affordable Chinese cuisine [1]. Diverse neighborhoods such as Queens provide authentic and inexpensive dining experiences, reflecting the city's rich immigrant culture [2][5]. Street food, local markets, and grab-and-go options like Los Tacos No. 1 and Joe’s Pizza offer delicious meals without the hefty price tag [6][7]. Additionally, eateries embracing creative and fusion cuisines, such as Wahizza's Rabo pizza, demonstrate NYC's innovative culinary landscape at a low cost [4].\n",
      "\n",
      "These insights collectively highlight NYC's dynamic culinary scene, where the fusion of diverse cultural influences, innovative dining concepts, and varied price points create a rich tapestry of gastronomic experiences. Whether seeking a high-end meal, the perfect dining ambiance, or an affordable culinary adventure, NYC offers something for every palate and occasion.\n",
      "\n",
      "## Sources\n",
      "\n",
      "[1] https://www.timeout.com/newyork/restaurants/100-best-new-york-restaurants  \n",
      "[2] https://www.nytimes.com/interactive/2024/dining/best-nyc-restaurants.html  \n",
      "[3] https://www.theinfatuation.com/new-york/guides/best-restaurants-nyc  \n",
      "[4] https://flavourjournal.biomedcentral.com/articles/10.1186/2044-7248-3-9  \n",
      "[5] https://www.psychologytoday.com/us/blog/out-of-the-ooze/201704/the-ambience-of-a-restaurant-controls-what-we-eat-and-drink  \n",
      "[6] https://www.cuboh.com/blog/restaurant-decor  \n",
      "[7] https://observer.com/2018/01/my-terrible-meal-at-salt-baes-nusr-et-nyc-restaurant-review/  \n",
      "[8] https://www.quora.com/What-are-the-best-budget-restaurants-in-NYC-if-youre-there-for-five-days  \n",
      "[9] https://www.reddit.com/r/FoodNYC/comments/1djv36c/best_food_on_a_budget_in_nyc/  \n",
      "[10] https://ny.eater.com/maps/best-affordable-restaurants-nyc-cheap-food-new-york-city  \n",
      "[11] https://gothamist.com/arts-entertainment/10-of-the-best-low-budget-meals-in-new-york-city-that-are-worth-the-journey  \n",
      "[12] https://www.reddit.com/r/FoodNYC/comments/1dmv02u/recommendations_for_foodies_visiting_nyc_on_a/  \n",
      "[13] https://davidsbeenhere.com/2024/08/10/how-to-eat-in-new-york-on-a-budget/  \n",
      "[14] https://ultimatefoodtours.com/blog/eat-in-nyc-on-a-budget  \n",
      "DEBUG conclusion: ## Conclusion\n",
      "\n",
      "New York City's culinary scene is a vibrant reflection of its rich cultural tapestry, innovation, and accessibility. The city's new restaurants push the boundaries of flavor and creativity, with establishments like Figure Eight and Dhamaka leading the charge with their inventive fusion dishes. Ambiance plays a crucial role in enhancing the dining experience, with strategic decor and service quality shaping diner satisfaction. Despite its reputation for high costs, NYC offers a plethora of affordable dining options, from Chinatown's budget-friendly fare to innovative street food. Collectively, these elements make NYC a global gastronomic hotspot that caters to diverse tastes and budgets.\n"
     ]
    }
   ],
   "source": [
    "max_analysts = 3 \n",
    "topic = \"Best NYC restaurants\"\n",
    "thread = {\"configurable\": {\"thread_id\": \"5\"}}\n",
    "\n",
    "# final_graph.invoke({\"topic\": topic}, thread)\n",
    "\n",
    "final_graph.invoke({\"topic\": topic},\n",
    "        thread,\n",
    "        stream_mode=\"updates\"\n",
    "    )\n",
    "\n",
    "while final_graph.get_state(thread).next: #need while loop if there is feedback\n",
    "        graph_state = final_graph.get_state(thread)\n",
    "        interrupt_value = graph_state.tasks[0].interrupts[0].value\n",
    "\n",
    "        # Occasionally, the previous print statement is not visible in the console.\n",
    "        sleep(0.5)\n",
    "\n",
    "        human_feedback_text = input(interrupt_value) #input stored here\n",
    "        print(f\"\\nAgent Response: {human_feedback_text}\\n\\n\")\n",
    "        final_graph.invoke(Command(resume=human_feedback_text), config=thread)\n"
   ]
  },
  {
   "cell_type": "code",
   "execution_count": 142,
   "id": "b46b4936-9337-4202-9538-fb7478bd56e8",
   "metadata": {},
   "outputs": [
    {
     "data": {
      "text/markdown": [
       "# Best NYC Restaurants: A Culinary Odyssey\n",
       "\n",
       "## Introduction\n",
       "\n",
       "New York City, renowned for its vibrant and diverse culinary landscape, offers an unparalleled gastronomic journey. This report delves into the city's dynamic dining scene, where innovation and diversity converge to create unforgettable experiences. From emerging restaurants pushing culinary boundaries with unique fusions and high-quality dishes, to the importance of ambiance in enhancing the dining experience, NYC's eateries set global standards. Additionally, the report explores the city's commitment to affordability, with neighborhoods like Chinatown and Queens offering budget-friendly yet authentic flavors. Join us as we uncover the culinary gems that make NYC a hub for food enthusiasts worldwide.\n",
       "\n",
       "---\n",
       "\n",
       "\n",
       "\n",
       "New York City's culinary landscape is a vibrant tapestry that encompasses a wide array of dining experiences, reflecting the city's diverse cultural influences and innovative spirit. The integration of creativity, ambiance, and affordability into NYC's dining scene solidifies its reputation as a global gastronomic hub.\n",
       "\n",
       "A central theme in the city's culinary narrative is the emergence of new restaurants that push the boundaries of creativity and quality. Establishments like Figure Eight integrate Chinese-American elements with lower Atlantic coast flavors, creating standout dishes such as their renowned seafood tower [1]. Similarly, a bistro in Fort Greene, helmed by culinary titans Gabriel Stulman and April Bloomfield, offers a seasonally influenced menu that has captured the attention of diners with items like chilled martinis and a perfectly executed roast chicken [1]. In Williamsburg, Dhamaka presents a Cantonese-American fusion menu, where inventive dishes like a bean curd twist on cacio e pepe and an MSG Martini showcase a commitment to excellence [1].\n",
       "\n",
       "The ambiance of NYC's restaurants is equally significant, as the atmosphere often elevates the dining experience. The strategic use of noise, decor, and colors can influence diner behavior and preferences. Establishments may intentionally create a lively environment to encourage quick table turnover or, conversely, opt for a relaxed setting with soft lighting to invite leisurely dining [1][2]. Thematic decor, such as nautical elements in seafood restaurants, can enhance the overall dining experience by influencing diners' choices [3]. Service quality also plays a crucial role, with attentive and friendly staff contributing to a positive ambiance that ensures customer satisfaction [5].\n",
       "\n",
       "Affordability remains a key consideration for many diners, and NYC does not disappoint in offering budget-friendly yet high-quality options. Chinatown, particularly around Canal and Mott streets, is celebrated for its affordable Chinese cuisine [1]. Diverse neighborhoods such as Queens provide authentic and inexpensive dining experiences, reflecting the city's rich immigrant culture [2][5]. Street food, local markets, and grab-and-go options like Los Tacos No. 1 and Joe’s Pizza offer delicious meals without the hefty price tag [6][7]. Additionally, eateries embracing creative and fusion cuisines, such as Wahizza's Rabo pizza, demonstrate NYC's innovative culinary landscape at a low cost [4].\n",
       "\n",
       "These insights collectively highlight NYC's dynamic culinary scene, where the fusion of diverse cultural influences, innovative dining concepts, and varied price points create a rich tapestry of gastronomic experiences. Whether seeking a high-end meal, the perfect dining ambiance, or an affordable culinary adventure, NYC offers something for every palate and occasion.\n",
       "\n",
       "\n",
       "\n",
       "---\n",
       "\n",
       "## Conclusion\n",
       "\n",
       "New York City's culinary scene is a vibrant reflection of its rich cultural tapestry, innovation, and accessibility. The city's new restaurants push the boundaries of flavor and creativity, with establishments like Figure Eight and Dhamaka leading the charge with their inventive fusion dishes. Ambiance plays a crucial role in enhancing the dining experience, with strategic decor and service quality shaping diner satisfaction. Despite its reputation for high costs, NYC offers a plethora of affordable dining options, from Chinatown's budget-friendly fare to innovative street food. Collectively, these elements make NYC a global gastronomic hotspot that caters to diverse tastes and budgets.\n",
       "\n",
       "## Sources\n",
       "\n",
       "\n",
       "[1] https://www.timeout.com/newyork/restaurants/100-best-new-york-restaurants  \n",
       "[2] https://www.nytimes.com/interactive/2024/dining/best-nyc-restaurants.html  \n",
       "[3] https://www.theinfatuation.com/new-york/guides/best-restaurants-nyc  \n",
       "[4] https://flavourjournal.biomedcentral.com/articles/10.1186/2044-7248-3-9  \n",
       "[5] https://www.psychologytoday.com/us/blog/out-of-the-ooze/201704/the-ambience-of-a-restaurant-controls-what-we-eat-and-drink  \n",
       "[6] https://www.cuboh.com/blog/restaurant-decor  \n",
       "[7] https://observer.com/2018/01/my-terrible-meal-at-salt-baes-nusr-et-nyc-restaurant-review/  \n",
       "[8] https://www.quora.com/What-are-the-best-budget-restaurants-in-NYC-if-youre-there-for-five-days  \n",
       "[9] https://www.reddit.com/r/FoodNYC/comments/1djv36c/best_food_on_a_budget_in_nyc/  \n",
       "[10] https://ny.eater.com/maps/best-affordable-restaurants-nyc-cheap-food-new-york-city  \n",
       "[11] https://gothamist.com/arts-entertainment/10-of-the-best-low-budget-meals-in-new-york-city-that-are-worth-the-journey  \n",
       "[12] https://www.reddit.com/r/FoodNYC/comments/1dmv02u/recommendations_for_foodies_visiting_nyc_on_a/  \n",
       "[13] https://davidsbeenhere.com/2024/08/10/how-to-eat-in-new-york-on-a-budget/  \n",
       "[14] https://ultimatefoodtours.com/blog/eat-in-nyc-on-a-budge"
      ],
      "text/plain": [
       "<IPython.core.display.Markdown object>"
      ]
     },
     "execution_count": 142,
     "metadata": {},
     "output_type": "execute_result"
    }
   ],
   "source": [
    "Markdown(final_graph.get_state(thread).values['final_report'])"
   ]
  },
  {
   "cell_type": "code",
   "execution_count": 141,
   "id": "7154dd04-483c-434a-a196-6c3f991d09fa",
   "metadata": {},
   "outputs": [
    {
     "data": {
      "text/plain": [
       "\"# Best NYC Restaurants: A Culinary Odyssey\\n\\n## Introduction\\n\\nNew York City, renowned for its vibrant and diverse culinary landscape, offers an unparalleled gastronomic journey. This report delves into the city's dynamic dining scene, where innovation and diversity converge to create unforgettable experiences. From emerging restaurants pushing culinary boundaries with unique fusions and high-quality dishes, to the importance of ambiance in enhancing the dining experience, NYC's eateries set global standards. Additionally, the report explores the city's commitment to affordability, with neighborhoods like Chinatown and Queens offering budget-friendly yet authentic flavors. Join us as we uncover the culinary gems that make NYC a hub for food enthusiasts worldwide.\\n\\n---\\n\\n\\n\\nNew York City's culinary landscape is a vibrant tapestry that encompasses a wide array of dining experiences, reflecting the city's diverse cultural influences and innovative spirit. The integration of creativity, ambiance, and affordability into NYC's dining scene solidifies its reputation as a global gastronomic hub.\\n\\nA central theme in the city's culinary narrative is the emergence of new restaurants that push the boundaries of creativity and quality. Establishments like Figure Eight integrate Chinese-American elements with lower Atlantic coast flavors, creating standout dishes such as their renowned seafood tower [1]. Similarly, a bistro in Fort Greene, helmed by culinary titans Gabriel Stulman and April Bloomfield, offers a seasonally influenced menu that has captured the attention of diners with items like chilled martinis and a perfectly executed roast chicken [1]. In Williamsburg, Dhamaka presents a Cantonese-American fusion menu, where inventive dishes like a bean curd twist on cacio e pepe and an MSG Martini showcase a commitment to excellence [1].\\n\\nThe ambiance of NYC's restaurants is equally significant, as the atmosphere often elevates the dining experience. The strategic use of noise, decor, and colors can influence diner behavior and preferences. Establishments may intentionally create a lively environment to encourage quick table turnover or, conversely, opt for a relaxed setting with soft lighting to invite leisurely dining [1][2]. Thematic decor, such as nautical elements in seafood restaurants, can enhance the overall dining experience by influencing diners' choices [3]. Service quality also plays a crucial role, with attentive and friendly staff contributing to a positive ambiance that ensures customer satisfaction [5].\\n\\nAffordability remains a key consideration for many diners, and NYC does not disappoint in offering budget-friendly yet high-quality options. Chinatown, particularly around Canal and Mott streets, is celebrated for its affordable Chinese cuisine [1]. Diverse neighborhoods such as Queens provide authentic and inexpensive dining experiences, reflecting the city's rich immigrant culture [2][5]. Street food, local markets, and grab-and-go options like Los Tacos No. 1 and Joe’s Pizza offer delicious meals without the hefty price tag [6][7]. Additionally, eateries embracing creative and fusion cuisines, such as Wahizza's Rabo pizza, demonstrate NYC's innovative culinary landscape at a low cost [4].\\n\\nThese insights collectively highlight NYC's dynamic culinary scene, where the fusion of diverse cultural influences, innovative dining concepts, and varied price points create a rich tapestry of gastronomic experiences. Whether seeking a high-end meal, the perfect dining ambiance, or an affordable culinary adventure, NYC offers something for every palate and occasion.\\n\\n\\n\\n---\\n\\n## Conclusion\\n\\nNew York City's culinary scene is a vibrant reflection of its rich cultural tapestry, innovation, and accessibility. The city's new restaurants push the boundaries of flavor and creativity, with establishments like Figure Eight and Dhamaka leading the charge with their inventive fusion dishes. Ambiance plays a crucial role in enhancing the dining experience, with strategic decor and service quality shaping diner satisfaction. Despite its reputation for high costs, NYC offers a plethora of affordable dining options, from Chinatown's budget-friendly fare to innovative street food. Collectively, these elements make NYC a global gastronomic hotspot that caters to diverse tastes and budgets.\\n\\n## Sources\\n\\n\\n[1] https://www.timeout.com/newyork/restaurants/100-best-new-york-restaurants  \\n[2] https://www.nytimes.com/interactive/2024/dining/best-nyc-restaurants.html  \\n[3] https://www.theinfatuation.com/new-york/guides/best-restaurants-nyc  \\n[4] https://flavourjournal.biomedcentral.com/articles/10.1186/2044-7248-3-9  \\n[5] https://www.psychologytoday.com/us/blog/out-of-the-ooze/201704/the-ambience-of-a-restaurant-controls-what-we-eat-and-drink  \\n[6] https://www.cuboh.com/blog/restaurant-decor  \\n[7] https://observer.com/2018/01/my-terrible-meal-at-salt-baes-nusr-et-nyc-restaurant-review/  \\n[8] https://www.quora.com/What-are-the-best-budget-restaurants-in-NYC-if-youre-there-for-five-days  \\n[9] https://www.reddit.com/r/FoodNYC/comments/1djv36c/best_food_on_a_budget_in_nyc/  \\n[10] https://ny.eater.com/maps/best-affordable-restaurants-nyc-cheap-food-new-york-city  \\n[11] https://gothamist.com/arts-entertainment/10-of-the-best-low-budget-meals-in-new-york-city-that-are-worth-the-journey  \\n[12] https://www.reddit.com/r/FoodNYC/comments/1dmv02u/recommendations_for_foodies_visiting_nyc_on_a/  \\n[13] https://davidsbeenhere.com/2024/08/10/how-to-eat-in-new-york-on-a-budget/  \\n[14] https://ultimatefoodtours.com/blog/eat-in-nyc-on-a-budge\""
      ]
     },
     "execution_count": 141,
     "metadata": {},
     "output_type": "execute_result"
    }
   ],
   "source": [
    "final_graph.get_state(thread).values['final_report']"
   ]
  },
  {
   "cell_type": "code",
   "execution_count": 136,
   "id": "3c2c1dac-b0e1-4227-9429-c906981c2322",
   "metadata": {},
   "outputs": [
    {
     "data": {
      "text/plain": [
       "\"# NYC's Culinary Excellence: A Tapestry of Tradition and Innovation\\n\\n## Introduction\\n\\nNew York City, a global culinary capital, offers an unparalleled dining experience that reflects its cultural diversity and innovative spirit. This report delves into the city's vibrant culinary scene, highlighting restaurants renowned for their authenticity, such as Bolivian Llama Party and La Savane, which preserve traditional recipes. We explore the rise of experimental cuisine, where chefs push boundaries with sustainable practices. The importance of ambiance and service is showcased in venues like Enoteca Harlem and Da' Franco & Tony's Ristorante. Furthermore, we examine how social media influences dining experiences, engaging diverse audiences and enhancing NYC's culinary allure.\""
      ]
     },
     "execution_count": 136,
     "metadata": {},
     "output_type": "execute_result"
    }
   ],
   "source": [
    "final_graph.get_state(thread).values['introduction'].content"
   ]
  },
  {
   "cell_type": "code",
   "execution_count": 137,
   "id": "cf759f88-f73b-4900-b103-b217794fa793",
   "metadata": {},
   "outputs": [
    {
     "data": {
      "text/plain": [
       "\"## Insights\\n\\nNew York City's culinary landscape is a rich tapestry of authenticity, innovation, and dynamic dining experiences. The city's reputation as a global culinary capital is underpinned by its diverse offerings that reflect the cultural mosaic of its population. Restaurants in NYC are celebrated for their commitment to authenticity, with establishments like Bolivian Llama Party and La Savane honoring traditional recipes and ingredients [1]. This dedication to preserving culinary heritage is complemented by a thriving scene of experimental cuisine, where chefs are redefining traditional flavors with sustainable and innovative practices [2].\\n\\nThe dining experience in NYC extends beyond the plate, with exceptional service, ambiance, and customer satisfaction being crucial elements. Restaurants such as Enoteca Harlem and Da' Franco & Tony's Ristorante are noted for their outstanding service, ensuring that diners feel valued [1]. The ambiance of a restaurant, thoughtfully designed to enhance the culinary experience, plays a significant role as seen in venues like Kween and The Vintage Tea [1]. Iconic establishments, like the once-renowned Four Seasons Restaurant, continue to influence the contemporary dining scene with their legacy of combining ambiance and service [4].\\n\\nSocial media has revolutionized how restaurants in NYC engage with their clientele, with platforms being used to create virtual dining experiences that captivate tech-savvy audiences [1]. Paid promotions and user-generated content are integral to maintaining and expanding a restaurant's customer base, with targeted strategies tailored to specific demographics, such as young professionals and the LGBTQ+ community, enhancing inclusivity and appeal [2][4].\\n\\nIn conclusion, NYC's restaurants offer a multifaceted dining experience characterized by a blend of authenticity, innovation, service excellence, and strategic social media engagement. These elements collectively contribute to NYC's standing as a leader in the global culinary scene, where the dining experience is not only about the food but also about creating memorable moments that resonate with a diverse audience.\\n\\n## Sources\\n[1] https://travelswithtalek.com/26-authentic-ethnic-restaurants-nyc-a-to-z/  \\n[2] https://aleph-farms.com/journals/the-rise-of-experimental-cuisine-in-new-york-city-a-look-at-the-innovative-trends-pushing-culinary-boundaries/  \\n[3] https://rosciolinyc.com/alimentari/  \\n[4] https://en.wikipedia.org/wiki/Four_Seasons_Restaurant  \\n[5] https://www.opentable.com/metro/us/new-york-city-restaurants  \\n[6] https://www.timeout.com/newyork/restaurants/100-best-new-york-restaurants  \\n[7] https://en.wikipedia.org/wiki/Michelin_Guide  \\n[8] https://blog.burkett.com/2023/06/14/social-media-restaurants-2023/  \\n[9] https://www.kontentino.com/blog/social-media-marketing-for-restaurants/  \\n[10] https://www.incentivio.com/blog-news-restaurant-industry/maximizing-your-restaurants-reach-the-power-of-social-media-marketing-in-2023  \\n[11] https://en.wikipedia.org/wiki/LGBTQ_culture_in_New_York_City  \""
      ]
     },
     "execution_count": 137,
     "metadata": {},
     "output_type": "execute_result"
    }
   ],
   "source": [
    "final_graph.get_state(thread).values['content']"
   ]
  },
  {
   "cell_type": "code",
   "execution_count": 37,
   "id": "0f0cec66-b801-454c-8e57-fc4fc8c9f509",
   "metadata": {},
   "outputs": [
    {
     "name": "stdout",
     "output_type": "stream",
     "text": [
      "Name: pydantic\n",
      "Version: 2.10.6\n",
      "Summary: Data validation using Python type hints\n",
      "Home-page: \n",
      "Author: \n",
      "Author-email: Samuel Colvin <s@muelcolvin.com>, Eric Jolibois <em.jolibois@gmail.com>, Hasan Ramezani <hasan.r67@gmail.com>, Adrian Garcia Badaracco <1755071+adriangb@users.noreply.github.com>, Terrence Dorsey <terry@pydantic.dev>, David Montague <david@pydantic.dev>, Serge Matveenko <lig@countzero.co>, Marcelo Trylesinski <marcelotryle@gmail.com>, Sydney Runkle <sydneymarierunkle@gmail.com>, David Hewitt <mail@davidhewitt.io>, Alex Hall <alex.mojaki@gmail.com>, Victorien Plot <contact@vctrn.dev>\n",
      "License: \n",
      "Location: /Users/kassandramadulka/Downloads/notebook/lib/python3.10/site-packages\n",
      "Requires: annotated-types, pydantic-core, typing-extensions\n",
      "Required-by: langchain, langchain-core, langsmith, openai, pydantic-settings\n"
     ]
    }
   ],
   "source": [
    "!pip show pydantic"
   ]
  },
  {
   "cell_type": "code",
   "execution_count": null,
   "id": "811d9057-ce49-4fd6-a51e-af3db891583d",
   "metadata": {},
   "outputs": [],
   "source": []
  }
 ],
 "metadata": {
  "kernelspec": {
   "display_name": "articlewriter",
   "language": "python",
   "name": "python3"
  },
  "language_info": {
   "codemirror_mode": {
    "name": "ipython",
    "version": 3
   },
   "file_extension": ".py",
   "mimetype": "text/x-python",
   "name": "python",
   "nbconvert_exporter": "python",
   "pygments_lexer": "ipython3",
   "version": "3.10.4"
  }
 },
 "nbformat": 4,
 "nbformat_minor": 5
}
